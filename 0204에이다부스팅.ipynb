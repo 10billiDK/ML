{
 "cells": [
  {
   "cell_type": "code",
   "execution_count": 2,
   "metadata": {},
   "outputs": [],
   "source": [
    "import matplotlib.pyplot as plt\n",
    "from sklearn import datasets\n",
    "from sklearn import tree, ensemble\n",
    "from sklearn.metrics import accuracy_score, confusion_matrix\n",
    "from sklearn.metrics import precision_score, recall_score, f1_score\n"
   ]
  },
  {
   "cell_type": "code",
   "execution_count": 49,
   "metadata": {},
   "outputs": [],
   "source": [
    "#손으로 쓴 숫자 데이터 읽기\n",
    "digits= datasets.load_digits()\n"
   ]
  },
  {
   "cell_type": "code",
   "execution_count": 45,
   "metadata": {},
   "outputs": [
    {
     "data": {
      "image/png": "[encoded data removed]",
      "text/plain": [
       "<Figure size 432x288 with 10 Axes>"
      ]
     },
     "metadata": {
      "needs_background": "light"
     },
     "output_type": "display_data"
    }
   ],
   "source": [
    "#이미지를 2행 5열로 표시\n",
    "\n",
    "for label, img in zip(digits.target[:10], digits.images[:10]):\n",
    "    plt.subplot(2,5, label+1)\n",
    "    plt.axis('off')\n",
    "    plt.imshow(img, cmap=plt.cm.gray_r, interpolation='nearest')\n",
    "    plt.title('Digit:{0}'.format(label))\n",
    "plt.show()"
   ]
  },
  {
   "cell_type": "code",
   "execution_count": 53,
   "metadata": {
    "scrolled": true
   },
   "outputs": [
    {
     "name": "stdout",
     "output_type": "stream",
     "text": [
      "[False False False ...  True False  True]\n",
      "[[[ 0.  0.  7. ...  1.  0.  0.]\n",
      "  [ 0.  8. 13. ...  4.  0.  0.]\n",
      "  [ 0.  2.  1. ...  0.  0.  0.]\n",
      "  ...\n",
      "  [ 0.  0.  0. ... 10.  8.  0.]\n",
      "  [ 0.  0.  8. ... 14.  9.  0.]\n",
      "  [ 0.  0.  7. ...  9.  0.  0.]]\n",
      "\n",
      " [[ 0.  0.  9. ...  1.  0.  0.]\n",
      "  [ 0.  0. 12. ... 12.  0.  0.]\n",
      "  [ 0.  0.  9. ... 15.  4.  0.]\n",
      "  ...\n",
      "  [ 0.  3. 16. ... 13.  2.  0.]\n",
      "  [ 0.  1. 15. ... 16.  8.  0.]\n",
      "  [ 0.  0. 11. ... 11.  1.  0.]]\n",
      "\n",
      " [[ 0.  2.  9. ...  9.  3.  0.]\n",
      "  [ 0.  4. 13. ... 16.  8.  0.]\n",
      "  [ 0.  0.  0. ... 15.  3.  0.]\n",
      "  ...\n",
      "  [ 0.  0.  0. ... 15.  4.  0.]\n",
      "  [ 0.  1.  5. ... 16.  6.  0.]\n",
      "  [ 0.  2. 12. ... 11.  0.  0.]]\n",
      "\n",
      " ...\n",
      "\n",
      " [[ 0.  0.  5. ...  0.  1.  0.]\n",
      "  [ 0.  0. 11. ... 13.  6.  0.]\n",
      "  [ 0.  0.  2. ... 12.  1.  0.]\n",
      "  ...\n",
      "  [ 0.  0.  8. ... 11.  0.  0.]\n",
      "  [ 0.  0. 11. ...  9.  0.  0.]\n",
      "  [ 0.  0.  6. ...  3.  0.  0.]]\n",
      "\n",
      " [[ 0.  0.  1. ...  1.  0.  0.]\n",
      "  [ 0.  0. 13. ...  2.  1.  0.]\n",
      "  [ 0.  0. 16. ... 16.  5.  0.]\n",
      "  ...\n",
      "  [ 0.  0. 16. ... 15.  0.  0.]\n",
      "  [ 0.  0. 15. ... 16.  0.  0.]\n",
      "  [ 0.  0.  2. ...  6.  0.  0.]]\n",
      "\n",
      " [[ 0.  0. 10. ...  1.  0.  0.]\n",
      "  [ 0.  2. 16. ...  1.  0.  0.]\n",
      "  [ 0.  0. 15. ... 15.  0.  0.]\n",
      "  ...\n",
      "  [ 0.  4. 16. ... 16.  6.  0.]\n",
      "  [ 0.  8. 16. ... 16.  8.  0.]\n",
      "  [ 0.  1.  8. ... 12.  1.  0.]]]\n"
     ]
    },
    {
     "data": {
      "text/plain": [
       "AdaBoostClassifier(algorithm='SAMME.R',\n",
       "                   base_estimator=DecisionTreeClassifier(class_weight=None,\n",
       "                                                         criterion='gini',\n",
       "                                                         max_depth=3,\n",
       "                                                         max_features=None,\n",
       "                                                         max_leaf_nodes=None,\n",
       "                                                         min_impurity_decrease=0.0,\n",
       "                                                         min_impurity_split=None,\n",
       "                                                         min_samples_leaf=1,\n",
       "                                                         min_samples_split=2,\n",
       "                                                         min_weight_fraction_leaf=0.0,\n",
       "                                                         presort=False,\n",
       "                                                         random_state=None,\n",
       "                                                         splitter='best'),\n",
       "                   learning_rate=1.0, n_estimators=50, random_state=None)"
      ]
     },
     "execution_count": 53,
     "metadata": {},
     "output_type": "execute_result"
    }
   ],
   "source": [
    "#3과 8의 데이터 위치를 구하기\n",
    "flag_3_8 = (digits.target==3) +(digits.target==8)\n",
    "print(flag_3_8)\n",
    "#3과 8의 데이터를 구하기\n",
    "images= digits.images[flag_3_8]\n",
    "labels= digits.target[flag_3_8]\n",
    "print(images)\n",
    "#3과 8의 이미지 데이터를 1차원화\n",
    "images= images.reshape(images.shape[0],-1)\n",
    "\n",
    "#분류기 생성\n",
    "n_samples = len(flag_3_8[flag_3_8])\n",
    "train_size = int(n_samples *3/5)\n",
    "classifier = ensemble.AdaBoostClassifier(base_estimator = tree.DecisionTreeClassifier(max_depth=3), n_estimators=50)\n",
    "classifier.fit(images[:train_size], labels[:train_size])"
   ]
  },
  {
   "cell_type": "code",
   "execution_count": 12,
   "metadata": {},
   "outputs": [
    {
     "name": "stdout",
     "output_type": "stream",
     "text": [
      "Accuracy:\n",
      " 1.0\n",
      "Confusion_matrix:\n",
      " [[74]]\n",
      "Precision:\n",
      " 1.0\n",
      "Recall:\n",
      " 1.0\n",
      "F-measure:\n",
      " 1.0\n"
     ]
    }
   ],
   "source": [
    "#분류기 성능을 확인\n",
    "expected = labels[train_size:]\n",
    "predicted = classifier.predict(images[train_size:])\n",
    "\n",
    "print('Accuracy:\\n', accuracy_score(expected, predicted))\n",
    "print('Confusion_matrix:\\n', confusion_matrix(expected, predicted))\n",
    "print('Precision:\\n', precision_score(expected, predicted, pos_label=3))\n",
    "print('Recall:\\n', recall_score(expected, predicted, pos_label=3))\n",
    "print('F-measure:\\n', f1_score(expected, predicted,pos_label=3))"
   ]
  },
  {
   "cell_type": "code",
   "execution_count": null,
   "metadata": {},
   "outputs": [],
   "source": []
  }
 ],
 "metadata": {
  "kernelspec": {
   "display_name": "Python 3",
   "language": "python",
   "name": "python3"
  },
  "language_info": {
   "codemirror_mode": {
    "name": "ipython",
    "version": 3
   },
   "file_extension": ".py",
   "mimetype": "text/x-python",
   "name": "python",
   "nbconvert_exporter": "python",
   "pygments_lexer": "ipython3",
   "version": "3.7.4"
  }
 },
 "nbformat": 4,
 "nbformat_minor": 2
}
